{
 "cells": [
  {
   "cell_type": "code",
   "execution_count": 1,
   "metadata": {},
   "outputs": [],
   "source": [
    "from keras.datasets import imdb"
   ]
  },
  {
   "cell_type": "code",
   "execution_count": 2,
   "metadata": {},
   "outputs": [
    {
     "name": "stdout",
     "output_type": "stream",
     "text": [
      "Collecting keras\n",
      "  Downloading keras-3.5.0-py3-none-any.whl.metadata (5.8 kB)\n",
      "Collecting absl-py (from keras)\n",
      "  Downloading absl_py-2.1.0-py3-none-any.whl.metadata (2.3 kB)\n",
      "Requirement already satisfied: numpy in c:\\users\\rydhm\\appdata\\local\\programs\\python\\python312\\lib\\site-packages (from keras) (2.1.0)\n",
      "Collecting rich (from keras)\n",
      "  Downloading rich-13.8.1-py3-none-any.whl.metadata (18 kB)\n",
      "Collecting namex (from keras)\n",
      "  Downloading namex-0.0.8-py3-none-any.whl.metadata (246 bytes)\n",
      "Collecting h5py (from keras)\n",
      "  Downloading h5py-3.12.1-cp312-cp312-win_amd64.whl.metadata (2.5 kB)\n",
      "Collecting optree (from keras)\n",
      "  Downloading optree-0.12.1-cp312-cp312-win_amd64.whl.metadata (48 kB)\n",
      "Collecting ml-dtypes (from keras)\n",
      "  Downloading ml_dtypes-0.5.0-cp312-cp312-win_amd64.whl.metadata (22 kB)\n",
      "Requirement already satisfied: packaging in c:\\users\\rydhm\\appdata\\roaming\\python\\python312\\site-packages (from keras) (24.1)\n",
      "Collecting typing-extensions>=4.5.0 (from optree->keras)\n",
      "  Downloading typing_extensions-4.12.2-py3-none-any.whl.metadata (3.0 kB)\n",
      "Collecting markdown-it-py>=2.2.0 (from rich->keras)\n",
      "  Downloading markdown_it_py-3.0.0-py3-none-any.whl.metadata (6.9 kB)\n",
      "Requirement already satisfied: pygments<3.0.0,>=2.13.0 in c:\\users\\rydhm\\appdata\\roaming\\python\\python312\\site-packages (from rich->keras) (2.18.0)\n",
      "Collecting mdurl~=0.1 (from markdown-it-py>=2.2.0->rich->keras)\n",
      "  Downloading mdurl-0.1.2-py3-none-any.whl.metadata (1.6 kB)\n",
      "Downloading keras-3.5.0-py3-none-any.whl (1.1 MB)\n",
      "   ---------------------------------------- 0.0/1.1 MB ? eta -:--:--\n",
      "   ---------------------------------------- 1.1/1.1 MB 7.1 MB/s eta 0:00:00\n",
      "Downloading absl_py-2.1.0-py3-none-any.whl (133 kB)\n",
      "Downloading h5py-3.12.1-cp312-cp312-win_amd64.whl (3.0 MB)\n",
      "   ---------------------------------------- 0.0/3.0 MB ? eta -:--:--\n",
      "   -------------- ------------------------- 1.0/3.0 MB 6.3 MB/s eta 0:00:01\n",
      "   ----------------------------------- ---- 2.6/3.0 MB 6.3 MB/s eta 0:00:01\n",
      "   ---------------------------------------- 3.0/3.0 MB 5.6 MB/s eta 0:00:00\n",
      "Downloading ml_dtypes-0.5.0-cp312-cp312-win_amd64.whl (213 kB)\n",
      "Downloading namex-0.0.8-py3-none-any.whl (5.8 kB)\n",
      "Downloading optree-0.12.1-cp312-cp312-win_amd64.whl (267 kB)\n",
      "Downloading rich-13.8.1-py3-none-any.whl (241 kB)\n",
      "Downloading markdown_it_py-3.0.0-py3-none-any.whl (87 kB)\n",
      "Downloading typing_extensions-4.12.2-py3-none-any.whl (37 kB)\n",
      "Downloading mdurl-0.1.2-py3-none-any.whl (10.0 kB)\n",
      "Installing collected packages: namex, typing-extensions, ml-dtypes, mdurl, h5py, absl-py, optree, markdown-it-py, rich, keras\n",
      "Successfully installed absl-py-2.1.0 h5py-3.12.1 keras-3.5.0 markdown-it-py-3.0.0 mdurl-0.1.2 ml-dtypes-0.5.0 namex-0.0.8 optree-0.12.1 rich-13.8.1 typing-extensions-4.12.2\n",
      "Note: you may need to restart the kernel to use updated packages.\n"
     ]
    }
   ],
   "source": [
    "pip install keras"
   ]
  },
  {
   "cell_type": "code",
   "execution_count": 4,
   "metadata": {},
   "outputs": [
    {
     "name": "stdout",
     "output_type": "stream",
     "text": [
      "Collecting tensorflow\n",
      "  Downloading tensorflow-2.17.0-cp312-cp312-win_amd64.whl.metadata (3.2 kB)\n",
      "Collecting tensorflow-intel==2.17.0 (from tensorflow)\n",
      "  Downloading tensorflow_intel-2.17.0-cp312-cp312-win_amd64.whl.metadata (5.0 kB)\n",
      "Requirement already satisfied: absl-py>=1.0.0 in c:\\users\\rydhm\\appdata\\local\\programs\\python\\python312\\lib\\site-packages (from tensorflow-intel==2.17.0->tensorflow) (2.1.0)\n",
      "Collecting astunparse>=1.6.0 (from tensorflow-intel==2.17.0->tensorflow)\n",
      "  Downloading astunparse-1.6.3-py2.py3-none-any.whl.metadata (4.4 kB)\n",
      "Collecting flatbuffers>=24.3.25 (from tensorflow-intel==2.17.0->tensorflow)\n",
      "  Downloading flatbuffers-24.3.25-py2.py3-none-any.whl.metadata (850 bytes)\n",
      "Collecting gast!=0.5.0,!=0.5.1,!=0.5.2,>=0.2.1 (from tensorflow-intel==2.17.0->tensorflow)\n",
      "  Downloading gast-0.6.0-py3-none-any.whl.metadata (1.3 kB)\n",
      "Collecting google-pasta>=0.1.1 (from tensorflow-intel==2.17.0->tensorflow)\n",
      "  Downloading google_pasta-0.2.0-py3-none-any.whl.metadata (814 bytes)\n",
      "Requirement already satisfied: h5py>=3.10.0 in c:\\users\\rydhm\\appdata\\local\\programs\\python\\python312\\lib\\site-packages (from tensorflow-intel==2.17.0->tensorflow) (3.12.1)\n",
      "Collecting libclang>=13.0.0 (from tensorflow-intel==2.17.0->tensorflow)\n",
      "  Downloading libclang-18.1.1-py2.py3-none-win_amd64.whl.metadata (5.3 kB)\n",
      "Collecting ml-dtypes<0.5.0,>=0.3.1 (from tensorflow-intel==2.17.0->tensorflow)\n",
      "  Downloading ml_dtypes-0.4.1-cp312-cp312-win_amd64.whl.metadata (20 kB)\n",
      "Collecting opt-einsum>=2.3.2 (from tensorflow-intel==2.17.0->tensorflow)\n",
      "  Downloading opt_einsum-3.4.0-py3-none-any.whl.metadata (6.3 kB)\n",
      "Requirement already satisfied: packaging in c:\\users\\rydhm\\appdata\\roaming\\python\\python312\\site-packages (from tensorflow-intel==2.17.0->tensorflow) (24.1)\n",
      "Collecting protobuf!=4.21.0,!=4.21.1,!=4.21.2,!=4.21.3,!=4.21.4,!=4.21.5,<5.0.0dev,>=3.20.3 (from tensorflow-intel==2.17.0->tensorflow)\n",
      "  Downloading protobuf-4.25.5-cp310-abi3-win_amd64.whl.metadata (541 bytes)\n",
      "Collecting requests<3,>=2.21.0 (from tensorflow-intel==2.17.0->tensorflow)\n",
      "  Downloading requests-2.32.3-py3-none-any.whl.metadata (4.6 kB)\n",
      "Collecting setuptools (from tensorflow-intel==2.17.0->tensorflow)\n",
      "  Downloading setuptools-75.1.0-py3-none-any.whl.metadata (6.9 kB)\n",
      "Requirement already satisfied: six>=1.12.0 in c:\\users\\rydhm\\appdata\\roaming\\python\\python312\\site-packages (from tensorflow-intel==2.17.0->tensorflow) (1.16.0)\n",
      "Collecting termcolor>=1.1.0 (from tensorflow-intel==2.17.0->tensorflow)\n",
      "  Downloading termcolor-2.4.0-py3-none-any.whl.metadata (6.1 kB)\n",
      "Requirement already satisfied: typing-extensions>=3.6.6 in c:\\users\\rydhm\\appdata\\local\\programs\\python\\python312\\lib\\site-packages (from tensorflow-intel==2.17.0->tensorflow) (4.12.2)\n",
      "Collecting wrapt>=1.11.0 (from tensorflow-intel==2.17.0->tensorflow)\n",
      "  Downloading wrapt-1.16.0-cp312-cp312-win_amd64.whl.metadata (6.8 kB)\n",
      "Collecting grpcio<2.0,>=1.24.3 (from tensorflow-intel==2.17.0->tensorflow)\n",
      "  Downloading grpcio-1.66.1-cp312-cp312-win_amd64.whl.metadata (4.0 kB)\n",
      "Collecting tensorboard<2.18,>=2.17 (from tensorflow-intel==2.17.0->tensorflow)\n",
      "  Downloading tensorboard-2.17.1-py3-none-any.whl.metadata (1.6 kB)\n",
      "Requirement already satisfied: keras>=3.2.0 in c:\\users\\rydhm\\appdata\\local\\programs\\python\\python312\\lib\\site-packages (from tensorflow-intel==2.17.0->tensorflow) (3.5.0)\n",
      "Collecting numpy<2.0.0,>=1.26.0 (from tensorflow-intel==2.17.0->tensorflow)\n",
      "  Downloading numpy-1.26.4-cp312-cp312-win_amd64.whl.metadata (61 kB)\n",
      "Collecting wheel<1.0,>=0.23.0 (from astunparse>=1.6.0->tensorflow-intel==2.17.0->tensorflow)\n",
      "  Downloading wheel-0.44.0-py3-none-any.whl.metadata (2.3 kB)\n",
      "Requirement already satisfied: rich in c:\\users\\rydhm\\appdata\\local\\programs\\python\\python312\\lib\\site-packages (from keras>=3.2.0->tensorflow-intel==2.17.0->tensorflow) (13.8.1)\n",
      "Requirement already satisfied: namex in c:\\users\\rydhm\\appdata\\local\\programs\\python\\python312\\lib\\site-packages (from keras>=3.2.0->tensorflow-intel==2.17.0->tensorflow) (0.0.8)\n",
      "Requirement already satisfied: optree in c:\\users\\rydhm\\appdata\\local\\programs\\python\\python312\\lib\\site-packages (from keras>=3.2.0->tensorflow-intel==2.17.0->tensorflow) (0.12.1)\n",
      "Collecting charset-normalizer<4,>=2 (from requests<3,>=2.21.0->tensorflow-intel==2.17.0->tensorflow)\n",
      "  Downloading charset_normalizer-3.3.2-cp312-cp312-win_amd64.whl.metadata (34 kB)\n",
      "Collecting idna<4,>=2.5 (from requests<3,>=2.21.0->tensorflow-intel==2.17.0->tensorflow)\n",
      "  Downloading idna-3.10-py3-none-any.whl.metadata (10 kB)\n",
      "Collecting urllib3<3,>=1.21.1 (from requests<3,>=2.21.0->tensorflow-intel==2.17.0->tensorflow)\n",
      "  Downloading urllib3-2.2.3-py3-none-any.whl.metadata (6.5 kB)\n",
      "Collecting certifi>=2017.4.17 (from requests<3,>=2.21.0->tensorflow-intel==2.17.0->tensorflow)\n",
      "  Downloading certifi-2024.8.30-py3-none-any.whl.metadata (2.2 kB)\n",
      "Collecting markdown>=2.6.8 (from tensorboard<2.18,>=2.17->tensorflow-intel==2.17.0->tensorflow)\n",
      "  Downloading Markdown-3.7-py3-none-any.whl.metadata (7.0 kB)\n",
      "Collecting tensorboard-data-server<0.8.0,>=0.7.0 (from tensorboard<2.18,>=2.17->tensorflow-intel==2.17.0->tensorflow)\n",
      "  Downloading tensorboard_data_server-0.7.2-py3-none-any.whl.metadata (1.1 kB)\n",
      "Collecting werkzeug>=1.0.1 (from tensorboard<2.18,>=2.17->tensorflow-intel==2.17.0->tensorflow)\n",
      "  Downloading werkzeug-3.0.4-py3-none-any.whl.metadata (3.7 kB)\n",
      "Collecting MarkupSafe>=2.1.1 (from werkzeug>=1.0.1->tensorboard<2.18,>=2.17->tensorflow-intel==2.17.0->tensorflow)\n",
      "  Downloading MarkupSafe-2.1.5-cp312-cp312-win_amd64.whl.metadata (3.1 kB)\n",
      "Requirement already satisfied: markdown-it-py>=2.2.0 in c:\\users\\rydhm\\appdata\\local\\programs\\python\\python312\\lib\\site-packages (from rich->keras>=3.2.0->tensorflow-intel==2.17.0->tensorflow) (3.0.0)\n",
      "Requirement already satisfied: pygments<3.0.0,>=2.13.0 in c:\\users\\rydhm\\appdata\\roaming\\python\\python312\\site-packages (from rich->keras>=3.2.0->tensorflow-intel==2.17.0->tensorflow) (2.18.0)\n",
      "Requirement already satisfied: mdurl~=0.1 in c:\\users\\rydhm\\appdata\\local\\programs\\python\\python312\\lib\\site-packages (from markdown-it-py>=2.2.0->rich->keras>=3.2.0->tensorflow-intel==2.17.0->tensorflow) (0.1.2)\n",
      "Downloading tensorflow-2.17.0-cp312-cp312-win_amd64.whl (2.0 kB)\n",
      "Downloading tensorflow_intel-2.17.0-cp312-cp312-win_amd64.whl (385.2 MB)\n",
      "   ---------------------------------------- 0.0/385.2 MB ? eta -:--:--\n",
      "   ---------------------------------------- 2.6/385.2 MB 15.1 MB/s eta 0:00:26\n",
      "    --------------------------------------- 7.1/385.2 MB 19.0 MB/s eta 0:00:20\n",
      "    --------------------------------------- 8.4/385.2 MB 20.0 MB/s eta 0:00:19\n",
      "    --------------------------------------- 9.2/385.2 MB 13.0 MB/s eta 0:00:29\n",
      "   - -------------------------------------- 11.5/385.2 MB 11.8 MB/s eta 0:00:32\n",
      "   - -------------------------------------- 11.5/385.2 MB 11.8 MB/s eta 0:00:32\n",
      "   - -------------------------------------- 13.1/385.2 MB 9.9 MB/s eta 0:00:38\n",
      "   - -------------------------------------- 14.2/385.2 MB 8.7 MB/s eta 0:00:43\n",
      "   - -------------------------------------- 18.1/385.2 MB 9.8 MB/s eta 0:00:38\n",
      "   -- ------------------------------------- 20.2/385.2 MB 10.0 MB/s eta 0:00:37\n",
      "   -- ------------------------------------- 20.2/385.2 MB 10.0 MB/s eta 0:00:37\n",
      "   -- ------------------------------------- 21.0/385.2 MB 8.9 MB/s eta 0:00:41\n",
      "   -- ------------------------------------- 21.0/385.2 MB 8.9 MB/s eta 0:00:41\n",
      "   -- ------------------------------------- 24.4/385.2 MB 8.4 MB/s eta 0:00:44\n",
      "   -- ------------------------------------- 27.5/385.2 MB 8.8 MB/s eta 0:00:41\n",
      "   --- ------------------------------------ 30.4/385.2 MB 9.1 MB/s eta 0:00:39\n",
      "   --- ------------------------------------ 35.1/385.2 MB 10.0 MB/s eta 0:00:36\n",
      "   ---- ----------------------------------- 39.6/385.2 MB 10.6 MB/s eta 0:00:33\n",
      "   ---- ----------------------------------- 44.6/385.2 MB 11.3 MB/s eta 0:00:31\n",
      "   ----- ---------------------------------- 48.8/385.2 MB 11.7 MB/s eta 0:00:29\n",
      "   ----- ---------------------------------- 53.5/385.2 MB 12.2 MB/s eta 0:00:28\n",
      "   ----- ---------------------------------- 57.7/385.2 MB 12.6 MB/s eta 0:00:27\n",
      "   ------ --------------------------------- 62.1/385.2 MB 13.0 MB/s eta 0:00:25\n",
      "   ------ --------------------------------- 65.3/385.2 MB 13.1 MB/s eta 0:00:25\n",
      "   ------- -------------------------------- 68.9/385.2 MB 13.2 MB/s eta 0:00:24\n",
      "   ------- -------------------------------- 73.1/385.2 MB 13.5 MB/s eta 0:00:24\n",
      "   ------- -------------------------------- 76.8/385.2 MB 13.6 MB/s eta 0:00:23\n",
      "   -------- ------------------------------- 81.0/385.2 MB 13.8 MB/s eta 0:00:23\n",
      "   -------- ------------------------------- 85.2/385.2 MB 14.0 MB/s eta 0:00:22\n",
      "   --------- ------------------------------ 89.1/385.2 MB 14.2 MB/s eta 0:00:21\n",
      "   --------- ------------------------------ 93.1/385.2 MB 14.3 MB/s eta 0:00:21\n",
      "   ---------- ----------------------------- 97.0/385.2 MB 14.5 MB/s eta 0:00:20\n",
      "   ---------- ----------------------------- 99.6/385.2 MB 14.5 MB/s eta 0:00:20\n",
      "   ---------- ----------------------------- 99.6/385.2 MB 14.5 MB/s eta 0:00:20\n",
      "   ---------- ---------------------------- 103.8/385.2 MB 14.2 MB/s eta 0:00:20\n",
      "   ---------- ---------------------------- 108.0/385.2 MB 14.3 MB/s eta 0:00:20\n",
      "   ----------- --------------------------- 112.5/385.2 MB 14.5 MB/s eta 0:00:19\n",
      "   ----------- --------------------------- 117.2/385.2 MB 14.7 MB/s eta 0:00:19\n",
      "   ------------ -------------------------- 121.9/385.2 MB 14.9 MB/s eta 0:00:18\n",
      "   ------------ -------------------------- 126.4/385.2 MB 15.1 MB/s eta 0:00:18\n",
      "   ------------- ------------------------- 129.8/385.2 MB 15.1 MB/s eta 0:00:17\n",
      "   ------------- ------------------------- 133.4/385.2 MB 15.1 MB/s eta 0:00:17\n",
      "   ------------- ------------------------- 136.6/385.2 MB 15.1 MB/s eta 0:00:17\n",
      "   -------------- ------------------------ 140.2/385.2 MB 15.2 MB/s eta 0:00:17\n",
      "   -------------- ------------------------ 143.4/385.2 MB 15.2 MB/s eta 0:00:16\n",
      "   -------------- ------------------------ 147.1/385.2 MB 15.2 MB/s eta 0:00:16\n",
      "   --------------- ----------------------- 151.0/385.2 MB 15.3 MB/s eta 0:00:16\n",
      "   --------------- ----------------------- 154.7/385.2 MB 15.4 MB/s eta 0:00:15\n",
      "   ---------------- ---------------------- 158.1/385.2 MB 15.3 MB/s eta 0:00:15\n",
      "   ---------------- ---------------------- 162.0/385.2 MB 15.4 MB/s eta 0:00:15\n",
      "   ---------------- ---------------------- 165.7/385.2 MB 15.5 MB/s eta 0:00:15\n",
      "   ----------------- --------------------- 169.6/385.2 MB 15.5 MB/s eta 0:00:14\n",
      "   ----------------- --------------------- 173.3/385.2 MB 15.5 MB/s eta 0:00:14\n",
      "   ------------------ -------------------- 178.5/385.2 MB 15.7 MB/s eta 0:00:14\n",
      "   ------------------ -------------------- 183.2/385.2 MB 15.8 MB/s eta 0:00:13\n",
      "   ------------------- ------------------- 187.7/385.2 MB 15.9 MB/s eta 0:00:13\n",
      "   ------------------- ------------------- 191.1/385.2 MB 15.9 MB/s eta 0:00:13\n",
      "   ------------------- ------------------- 194.2/385.2 MB 15.9 MB/s eta 0:00:12\n",
      "   -------------------- ------------------ 198.7/385.2 MB 16.0 MB/s eta 0:00:12\n",
      "   -------------------- ------------------ 202.4/385.2 MB 16.0 MB/s eta 0:00:12\n",
      "   --------------------- ----------------- 208.4/385.2 MB 16.2 MB/s eta 0:00:11\n",
      "   --------------------- ----------------- 212.1/385.2 MB 16.3 MB/s eta 0:00:11\n",
      "   --------------------- ----------------- 216.5/385.2 MB 16.3 MB/s eta 0:00:11\n",
      "   ---------------------- ---------------- 220.7/385.2 MB 16.4 MB/s eta 0:00:11\n",
      "   ---------------------- ---------------- 220.7/385.2 MB 16.4 MB/s eta 0:00:11\n",
      "   ---------------------- ---------------- 223.1/385.2 MB 16.2 MB/s eta 0:00:11\n",
      "   ---------------------- ---------------- 223.9/385.2 MB 15.9 MB/s eta 0:00:11\n",
      "   ---------------------- ---------------- 223.9/385.2 MB 15.9 MB/s eta 0:00:11\n",
      "   ---------------------- ---------------- 224.7/385.2 MB 15.6 MB/s eta 0:00:11\n",
      "   ---------------------- ---------------- 226.2/385.2 MB 15.4 MB/s eta 0:00:11\n",
      "   ---------------------- ---------------- 226.2/385.2 MB 15.4 MB/s eta 0:00:11\n",
      "   ----------------------- --------------- 228.3/385.2 MB 15.0 MB/s eta 0:00:11\n",
      "   ----------------------- --------------- 233.6/385.2 MB 15.2 MB/s eta 0:00:10\n",
      "   ------------------------ -------------- 239.3/385.2 MB 15.3 MB/s eta 0:00:10\n",
      "   ------------------------ -------------- 245.4/385.2 MB 15.5 MB/s eta 0:00:10\n",
      "   ------------------------- ------------- 251.9/385.2 MB 15.7 MB/s eta 0:00:09\n",
      "   -------------------------- ------------ 257.2/385.2 MB 15.9 MB/s eta 0:00:09\n",
      "   -------------------------- ------------ 263.2/385.2 MB 16.0 MB/s eta 0:00:08\n",
      "   --------------------------- ----------- 267.9/385.2 MB 16.0 MB/s eta 0:00:08\n",
      "   --------------------------- ----------- 271.8/385.2 MB 16.4 MB/s eta 0:00:07\n",
      "   --------------------------- ----------- 276.3/385.2 MB 17.0 MB/s eta 0:00:07\n",
      "   ---------------------------- ---------- 281.5/385.2 MB 17.1 MB/s eta 0:00:07\n",
      "   ----------------------------- --------- 287.0/385.2 MB 18.0 MB/s eta 0:00:06\n",
      "   ----------------------------- --------- 291.8/385.2 MB 18.2 MB/s eta 0:00:06\n",
      "   ----------------------------- --------- 294.9/385.2 MB 18.1 MB/s eta 0:00:05\n",
      "   ------------------------------ -------- 297.8/385.2 MB 18.0 MB/s eta 0:00:05\n",
      "   ------------------------------ -------- 301.2/385.2 MB 17.9 MB/s eta 0:00:05\n",
      "   ------------------------------ -------- 304.6/385.2 MB 17.9 MB/s eta 0:00:05\n",
      "   ------------------------------- ------- 307.8/385.2 MB 17.8 MB/s eta 0:00:05\n",
      "   ------------------------------- ------- 312.2/385.2 MB 17.8 MB/s eta 0:00:05\n",
      "   -------------------------------- ------ 316.7/385.2 MB 17.8 MB/s eta 0:00:04\n",
      "   -------------------------------- ------ 321.1/385.2 MB 17.8 MB/s eta 0:00:04\n",
      "   -------------------------------- ------ 321.9/385.2 MB 17.8 MB/s eta 0:00:04\n",
      "   -------------------------------- ------ 323.0/385.2 MB 17.4 MB/s eta 0:00:04\n",
      "   -------------------------------- ------ 323.2/385.2 MB 17.4 MB/s eta 0:00:04\n",
      "   --------------------------------- ----- 326.4/385.2 MB 17.1 MB/s eta 0:00:04\n",
      "   --------------------------------- ----- 332.1/385.2 MB 17.3 MB/s eta 0:00:04\n",
      "   ---------------------------------- ---- 338.2/385.2 MB 17.4 MB/s eta 0:00:03\n",
      "   ---------------------------------- ---- 344.5/385.2 MB 17.6 MB/s eta 0:00:03\n",
      "   ----------------------------------- --- 349.7/385.2 MB 17.6 MB/s eta 0:00:03\n",
      "   ----------------------------------- --- 349.7/385.2 MB 17.6 MB/s eta 0:00:03\n",
      "   ----------------------------------- --- 352.8/385.2 MB 17.4 MB/s eta 0:00:02\n",
      "   ------------------------------------ -- 356.0/385.2 MB 17.4 MB/s eta 0:00:02\n",
      "   ------------------------------------ -- 356.0/385.2 MB 17.4 MB/s eta 0:00:02\n",
      "   ------------------------------------ -- 357.3/385.2 MB 17.0 MB/s eta 0:00:02\n",
      "   ------------------------------------ -- 358.4/385.2 MB 16.7 MB/s eta 0:00:02\n",
      "   ------------------------------------ -- 358.4/385.2 MB 16.7 MB/s eta 0:00:02\n",
      "   ------------------------------------ -- 359.4/385.2 MB 16.4 MB/s eta 0:00:02\n",
      "   ------------------------------------ -- 360.2/385.2 MB 16.2 MB/s eta 0:00:02\n",
      "   ------------------------------------ -- 360.2/385.2 MB 16.2 MB/s eta 0:00:02\n",
      "   ------------------------------------ -- 361.2/385.2 MB 16.0 MB/s eta 0:00:02\n",
      "   ------------------------------------ -- 361.2/385.2 MB 16.0 MB/s eta 0:00:02\n",
      "   ------------------------------------ -- 362.3/385.2 MB 15.9 MB/s eta 0:00:02\n",
      "   ------------------------------------ -- 362.3/385.2 MB 15.9 MB/s eta 0:00:02\n",
      "   ------------------------------------ -- 363.3/385.2 MB 15.4 MB/s eta 0:00:02\n",
      "   ------------------------------------ -- 363.3/385.2 MB 15.4 MB/s eta 0:00:02\n",
      "   ------------------------------------ -- 364.6/385.2 MB 15.1 MB/s eta 0:00:02\n",
      "   ------------------------------------ -- 364.6/385.2 MB 15.1 MB/s eta 0:00:02\n",
      "   ------------------------------------- - 365.4/385.2 MB 14.8 MB/s eta 0:00:02\n",
      "   ------------------------------------- - 366.5/385.2 MB 14.7 MB/s eta 0:00:02\n",
      "   ------------------------------------- - 366.5/385.2 MB 14.7 MB/s eta 0:00:02\n",
      "   ------------------------------------- - 367.8/385.2 MB 14.4 MB/s eta 0:00:02\n",
      "   ------------------------------------- - 368.6/385.2 MB 14.2 MB/s eta 0:00:02\n",
      "   ------------------------------------- - 368.8/385.2 MB 14.2 MB/s eta 0:00:02\n",
      "   ------------------------------------- - 370.1/385.2 MB 13.9 MB/s eta 0:00:02\n",
      "   ------------------------------------- - 374.6/385.2 MB 13.9 MB/s eta 0:00:01\n",
      "   --------------------------------------  379.1/385.2 MB 13.9 MB/s eta 0:00:01\n",
      "   --------------------------------------  382.2/385.2 MB 13.9 MB/s eta 0:00:01\n",
      "   --------------------------------------  382.5/385.2 MB 13.8 MB/s eta 0:00:01\n",
      "   --------------------------------------  382.5/385.2 MB 13.8 MB/s eta 0:00:01\n",
      "   --------------------------------------  382.7/385.2 MB 13.5 MB/s eta 0:00:01\n",
      "   --------------------------------------  382.7/385.2 MB 13.5 MB/s eta 0:00:01\n",
      "   --------------------------------------  382.7/385.2 MB 13.5 MB/s eta 0:00:01\n",
      "   --------------------------------------  382.7/385.2 MB 13.5 MB/s eta 0:00:01\n",
      "   --------------------------------------  383.0/385.2 MB 13.0 MB/s eta 0:00:01\n",
      "   --------------------------------------  383.0/385.2 MB 13.0 MB/s eta 0:00:01\n",
      "   --------------------------------------  383.0/385.2 MB 13.0 MB/s eta 0:00:01\n",
      "   --------------------------------------  383.3/385.2 MB 12.5 MB/s eta 0:00:01\n",
      "   --------------------------------------  383.3/385.2 MB 12.5 MB/s eta 0:00:01\n",
      "   --------------------------------------  383.3/385.2 MB 12.5 MB/s eta 0:00:01\n",
      "   --------------------------------------  384.8/385.2 MB 12.2 MB/s eta 0:00:01\n",
      "   --------------------------------------  384.8/385.2 MB 12.2 MB/s eta 0:00:01\n",
      "   --------------------------------------  385.1/385.2 MB 12.0 MB/s eta 0:00:01\n",
      "   --------------------------------------  385.1/385.2 MB 12.0 MB/s eta 0:00:01\n",
      "   --------------------------------------  385.1/385.2 MB 12.0 MB/s eta 0:00:01\n",
      "   --------------------------------------  385.1/385.2 MB 12.0 MB/s eta 0:00:01\n",
      "   --------------------------------------  385.1/385.2 MB 12.0 MB/s eta 0:00:01\n",
      "   --------------------------------------  385.1/385.2 MB 12.0 MB/s eta 0:00:01\n",
      "   --------------------------------------  385.1/385.2 MB 12.0 MB/s eta 0:00:01\n",
      "   --------------------------------------  385.1/385.2 MB 12.0 MB/s eta 0:00:01\n",
      "   --------------------------------------  385.1/385.2 MB 12.0 MB/s eta 0:00:01\n",
      "   --------------------------------------  385.1/385.2 MB 12.0 MB/s eta 0:00:01\n",
      "   --------------------------------------  385.1/385.2 MB 12.0 MB/s eta 0:00:01\n",
      "   --------------------------------------- 385.2/385.2 MB 10.9 MB/s eta 0:00:00\n",
      "Downloading astunparse-1.6.3-py2.py3-none-any.whl (12 kB)\n",
      "Downloading flatbuffers-24.3.25-py2.py3-none-any.whl (26 kB)\n",
      "Downloading gast-0.6.0-py3-none-any.whl (21 kB)\n",
      "Downloading google_pasta-0.2.0-py3-none-any.whl (57 kB)\n",
      "Downloading grpcio-1.66.1-cp312-cp312-win_amd64.whl (4.3 MB)\n",
      "   ---------------------------------------- 0.0/4.3 MB ? eta -:--:--\n",
      "   ----------------- ---------------------- 1.8/4.3 MB 16.7 MB/s eta 0:00:01\n",
      "   ------------------------------- -------- 3.4/4.3 MB 11.8 MB/s eta 0:00:01\n",
      "   ------------------------------------ --- 3.9/4.3 MB 6.7 MB/s eta 0:00:01\n",
      "   ------------------------------------ --- 3.9/4.3 MB 6.7 MB/s eta 0:00:01\n",
      "   ------------------------------------ --- 3.9/4.3 MB 6.7 MB/s eta 0:00:01\n",
      "   ------------------------------------ --- 3.9/4.3 MB 6.7 MB/s eta 0:00:01\n",
      "   ------------------------------------ --- 3.9/4.3 MB 6.7 MB/s eta 0:00:01\n",
      "   ------------------------------------ --- 3.9/4.3 MB 6.7 MB/s eta 0:00:01\n",
      "   ------------------------------------ --- 3.9/4.3 MB 6.7 MB/s eta 0:00:01\n",
      "   ------------------------------------ --- 3.9/4.3 MB 6.7 MB/s eta 0:00:01\n",
      "   ---------------------------------------  4.2/4.3 MB 1.8 MB/s eta 0:00:01\n",
      "   ---------------------------------------  4.2/4.3 MB 1.8 MB/s eta 0:00:01\n",
      "   ---------------------------------------  4.2/4.3 MB 1.8 MB/s eta 0:00:01\n",
      "   ---------------------------------------  4.2/4.3 MB 1.8 MB/s eta 0:00:01\n",
      "   ---------------------------------------- 4.3/4.3 MB 1.4 MB/s eta 0:00:00\n",
      "Downloading libclang-18.1.1-py2.py3-none-win_amd64.whl (26.4 MB)\n",
      "   ---------------------------------------- 0.0/26.4 MB ? eta -:--:--\n",
      "   ------ --------------------------------- 4.2/26.4 MB 23.0 MB/s eta 0:00:01\n",
      "   --------- ------------------------------ 6.6/26.4 MB 25.2 MB/s eta 0:00:01\n",
      "   ------------ --------------------------- 8.1/26.4 MB 13.6 MB/s eta 0:00:02\n",
      "   ------------ --------------------------- 8.1/26.4 MB 13.6 MB/s eta 0:00:02\n",
      "   ------------ --------------------------- 8.4/26.4 MB 10.2 MB/s eta 0:00:02\n",
      "   ------------- -------------------------- 8.7/26.4 MB 7.6 MB/s eta 0:00:03\n",
      "   ------------- -------------------------- 8.7/26.4 MB 7.6 MB/s eta 0:00:03\n",
      "   ------------- -------------------------- 8.7/26.4 MB 7.6 MB/s eta 0:00:03\n",
      "   ------------- -------------------------- 8.7/26.4 MB 7.6 MB/s eta 0:00:03\n",
      "   ------------- -------------------------- 8.9/26.4 MB 4.6 MB/s eta 0:00:04\n",
      "   ------------- -------------------------- 8.9/26.4 MB 4.6 MB/s eta 0:00:04\n",
      "   ------------- -------------------------- 8.9/26.4 MB 4.6 MB/s eta 0:00:04\n",
      "   --------------- ------------------------ 10.2/26.4 MB 3.7 MB/s eta 0:00:05\n",
      "   --------------- ------------------------ 10.5/26.4 MB 3.8 MB/s eta 0:00:05\n",
      "   ----------------- ---------------------- 11.5/26.4 MB 3.7 MB/s eta 0:00:05\n",
      "   ----------------- ---------------------- 11.5/26.4 MB 3.7 MB/s eta 0:00:05\n",
      "   ----------------- ---------------------- 11.5/26.4 MB 3.7 MB/s eta 0:00:05\n",
      "   ----------------- ---------------------- 11.8/26.4 MB 3.2 MB/s eta 0:00:05\n",
      "   ----------------- ---------------------- 11.8/26.4 MB 3.2 MB/s eta 0:00:05\n",
      "   ----------------- ---------------------- 11.8/26.4 MB 3.2 MB/s eta 0:00:05\n",
      "   ----------------- ---------------------- 11.8/26.4 MB 3.2 MB/s eta 0:00:05\n",
      "   ------------------ --------------------- 12.1/26.4 MB 2.6 MB/s eta 0:00:06\n",
      "   ------------------ --------------------- 12.1/26.4 MB 2.6 MB/s eta 0:00:06\n",
      "   ------------------ --------------------- 12.1/26.4 MB 2.6 MB/s eta 0:00:06\n",
      "   ------------------ --------------------- 12.1/26.4 MB 2.6 MB/s eta 0:00:06\n",
      "   ------------------ --------------------- 12.3/26.4 MB 2.3 MB/s eta 0:00:07\n",
      "   ------------------ --------------------- 12.3/26.4 MB 2.3 MB/s eta 0:00:07\n",
      "   ------------------ --------------------- 12.3/26.4 MB 2.3 MB/s eta 0:00:07\n",
      "   ------------------- -------------------- 12.6/26.4 MB 2.0 MB/s eta 0:00:07\n",
      "   ------------------------- -------------- 16.5/26.4 MB 2.6 MB/s eta 0:00:04\n",
      "   ------------------------- -------------- 17.0/26.4 MB 2.6 MB/s eta 0:00:04\n",
      "   --------------------------- ------------ 18.4/26.4 MB 2.7 MB/s eta 0:00:03\n",
      "   ---------------------------- ----------- 19.1/26.4 MB 2.7 MB/s eta 0:00:03\n",
      "   ---------------------------- ----------- 19.1/26.4 MB 2.7 MB/s eta 0:00:03\n",
      "   -------------------------------- ------- 21.2/26.4 MB 2.9 MB/s eta 0:00:02\n",
      "   ---------------------------------- ----- 22.5/26.4 MB 2.9 MB/s eta 0:00:02\n",
      "   ------------------------------------ --- 24.1/26.4 MB 3.1 MB/s eta 0:00:01\n",
      "   ------------------------------------- -- 24.9/26.4 MB 3.1 MB/s eta 0:00:01\n",
      "   ---------------------------------------- 26.4/26.4 MB 3.2 MB/s eta 0:00:00\n",
      "Downloading ml_dtypes-0.4.1-cp312-cp312-win_amd64.whl (127 kB)\n",
      "Downloading numpy-1.26.4-cp312-cp312-win_amd64.whl (15.5 MB)\n",
      "   ---------------------------------------- 0.0/15.5 MB ? eta -:--:--\n",
      "   ------ --------------------------------- 2.4/15.5 MB 19.2 MB/s eta 0:00:01\n",
      "   -------- ------------------------------- 3.4/15.5 MB 9.6 MB/s eta 0:00:02\n",
      "   -------- ------------------------------- 3.4/15.5 MB 9.6 MB/s eta 0:00:02\n",
      "   -------- ------------------------------- 3.4/15.5 MB 9.6 MB/s eta 0:00:02\n",
      "   -------- ------------------------------- 3.4/15.5 MB 9.6 MB/s eta 0:00:02\n",
      "   -------- ------------------------------- 3.4/15.5 MB 9.6 MB/s eta 0:00:02\n",
      "   -------- ------------------------------- 3.4/15.5 MB 9.6 MB/s eta 0:00:02\n",
      "   -------- ------------------------------- 3.4/15.5 MB 9.6 MB/s eta 0:00:02\n",
      "   -------- ------------------------------- 3.4/15.5 MB 9.6 MB/s eta 0:00:02\n",
      "   -------- ------------------------------- 3.4/15.5 MB 9.6 MB/s eta 0:00:02\n",
      "   -------- ------------------------------- 3.4/15.5 MB 9.6 MB/s eta 0:00:02\n",
      "   --------- ------------------------------ 3.7/15.5 MB 1.5 MB/s eta 0:00:08\n",
      "   --------- ------------------------------ 3.7/15.5 MB 1.5 MB/s eta 0:00:08\n",
      "   --------- ------------------------------ 3.7/15.5 MB 1.5 MB/s eta 0:00:08\n",
      "   --------- ------------------------------ 3.7/15.5 MB 1.5 MB/s eta 0:00:08\n",
      "   --------- ------------------------------ 3.7/15.5 MB 1.5 MB/s eta 0:00:08\n",
      "   -------------- ------------------------- 5.5/15.5 MB 1.5 MB/s eta 0:00:07\n",
      "   -------------- ------------------------- 5.5/15.5 MB 1.5 MB/s eta 0:00:07\n",
      "   -------------- ------------------------- 5.5/15.5 MB 1.5 MB/s eta 0:00:07\n",
      "   -------------- ------------------------- 5.5/15.5 MB 1.5 MB/s eta 0:00:07\n",
      "   ---------------- ----------------------- 6.6/15.5 MB 1.5 MB/s eta 0:00:07\n",
      "   ---------------- ----------------------- 6.6/15.5 MB 1.5 MB/s eta 0:00:07\n",
      "   ---------------- ----------------------- 6.6/15.5 MB 1.5 MB/s eta 0:00:07\n",
      "   ---------------- ----------------------- 6.6/15.5 MB 1.5 MB/s eta 0:00:07\n",
      "   ---------------- ----------------------- 6.6/15.5 MB 1.5 MB/s eta 0:00:07\n",
      "   ---------------- ----------------------- 6.6/15.5 MB 1.5 MB/s eta 0:00:07\n",
      "   ---------------- ----------------------- 6.6/15.5 MB 1.5 MB/s eta 0:00:07\n",
      "   ----------------- ---------------------- 6.8/15.5 MB 1.1 MB/s eta 0:00:08\n",
      "   ----------------- ---------------------- 6.8/15.5 MB 1.1 MB/s eta 0:00:08\n",
      "   ----------------- ---------------------- 6.8/15.5 MB 1.1 MB/s eta 0:00:08\n",
      "   ----------------- ---------------------- 6.8/15.5 MB 1.1 MB/s eta 0:00:08\n",
      "   ------------------ --------------------- 7.1/15.5 MB 1.0 MB/s eta 0:00:09\n",
      "   ------------------ --------------------- 7.1/15.5 MB 1.0 MB/s eta 0:00:09\n",
      "   ------------------ --------------------- 7.1/15.5 MB 1.0 MB/s eta 0:00:09\n",
      "   ------------------ --------------------- 7.1/15.5 MB 1.0 MB/s eta 0:00:09\n",
      "   ------------------ --------------------- 7.3/15.5 MB 943.7 kB/s eta 0:00:09\n",
      "   ------------------- -------------------- 7.6/15.5 MB 952.9 kB/s eta 0:00:09\n",
      "   --------------------------------- ------ 13.1/15.5 MB 1.6 MB/s eta 0:00:02\n",
      "   ---------------------------------------- 15.5/15.5 MB 1.9 MB/s eta 0:00:00\n",
      "Downloading opt_einsum-3.4.0-py3-none-any.whl (71 kB)\n",
      "Downloading protobuf-4.25.5-cp310-abi3-win_amd64.whl (413 kB)\n",
      "Downloading requests-2.32.3-py3-none-any.whl (64 kB)\n",
      "Downloading tensorboard-2.17.1-py3-none-any.whl (5.5 MB)\n",
      "   ---------------------------------------- 0.0/5.5 MB ? eta -:--:--\n",
      "   ---------------------------------------- 5.5/5.5 MB 28.0 MB/s eta 0:00:00\n",
      "Downloading setuptools-75.1.0-py3-none-any.whl (1.2 MB)\n",
      "   ---------------------------------------- 0.0/1.2 MB ? eta -:--:--\n",
      "   ---------------------------------------- 1.2/1.2 MB 30.8 MB/s eta 0:00:00\n",
      "Downloading termcolor-2.4.0-py3-none-any.whl (7.7 kB)\n",
      "Downloading wrapt-1.16.0-cp312-cp312-win_amd64.whl (37 kB)\n",
      "Downloading certifi-2024.8.30-py3-none-any.whl (167 kB)\n",
      "Downloading charset_normalizer-3.3.2-cp312-cp312-win_amd64.whl (100 kB)\n",
      "Downloading idna-3.10-py3-none-any.whl (70 kB)\n",
      "Downloading Markdown-3.7-py3-none-any.whl (106 kB)\n",
      "Downloading tensorboard_data_server-0.7.2-py3-none-any.whl (2.4 kB)\n",
      "Downloading urllib3-2.2.3-py3-none-any.whl (126 kB)\n",
      "Downloading werkzeug-3.0.4-py3-none-any.whl (227 kB)\n",
      "Downloading wheel-0.44.0-py3-none-any.whl (67 kB)\n",
      "Downloading MarkupSafe-2.1.5-cp312-cp312-win_amd64.whl (17 kB)\n",
      "Installing collected packages: libclang, flatbuffers, wrapt, wheel, urllib3, termcolor, tensorboard-data-server, setuptools, protobuf, opt-einsum, numpy, MarkupSafe, markdown, idna, grpcio, google-pasta, gast, charset-normalizer, certifi, werkzeug, requests, ml-dtypes, astunparse, tensorboard, tensorflow-intel, tensorflow\n",
      "  Attempting uninstall: numpy\n",
      "    Found existing installation: numpy 2.1.0\n",
      "    Uninstalling numpy-2.1.0:\n",
      "      Successfully uninstalled numpy-2.1.0\n",
      "  Attempting uninstall: ml-dtypes\n",
      "    Found existing installation: ml_dtypes 0.5.0\n",
      "    Uninstalling ml_dtypes-0.5.0:\n",
      "      Successfully uninstalled ml_dtypes-0.5.0\n",
      "Successfully installed MarkupSafe-2.1.5 astunparse-1.6.3 certifi-2024.8.30 charset-normalizer-3.3.2 flatbuffers-24.3.25 gast-0.6.0 google-pasta-0.2.0 grpcio-1.66.1 idna-3.10 libclang-18.1.1 markdown-3.7 ml-dtypes-0.4.1 numpy-1.26.4 opt-einsum-3.4.0 protobuf-4.25.5 requests-2.32.3 setuptools-75.1.0 tensorboard-2.17.1 tensorboard-data-server-0.7.2 tensorflow-2.17.0 tensorflow-intel-2.17.0 termcolor-2.4.0 urllib3-2.2.3 werkzeug-3.0.4 wheel-0.44.0 wrapt-1.16.0\n",
      "Note: you may need to restart the kernel to use updated packages.\n"
     ]
    },
    {
     "name": "stderr",
     "output_type": "stream",
     "text": [
      "  WARNING: Failed to remove contents in a temporary directory 'C:\\Users\\rydhm\\AppData\\Local\\Programs\\Python\\Python312\\Lib\\site-packages\\~umpy.libs'.\n",
      "  You can safely remove it manually.\n",
      "  WARNING: Failed to remove contents in a temporary directory 'C:\\Users\\rydhm\\AppData\\Local\\Programs\\Python\\Python312\\Lib\\site-packages\\~umpy'.\n",
      "  You can safely remove it manually.\n"
     ]
    }
   ],
   "source": [
    "pip install tensorflow"
   ]
  },
  {
   "cell_type": "code",
   "execution_count": 8,
   "metadata": {},
   "outputs": [
    {
     "name": "stdout",
     "output_type": "stream",
     "text": [
      "Collecting Distutils2\n",
      "  Using cached Distutils2-1.0a4.tar.gz (894 kB)\n",
      "  Preparing metadata (setup.py): started\n",
      "  Preparing metadata (setup.py): finished with status 'error'\n",
      "Note: you may need to restart the kernel to use updated packages.\n"
     ]
    },
    {
     "name": "stderr",
     "output_type": "stream",
     "text": [
      "  error: subprocess-exited-with-error\n",
      "  \n",
      "  × python setup.py egg_info did not run successfully.\n",
      "  │ exit code: 1\n",
      "  ╰─> [6 lines of output]\n",
      "      Traceback (most recent call last):\n",
      "        File \"<string>\", line 2, in <module>\n",
      "        File \"<pip-setuptools-caller>\", line 34, in <module>\n",
      "        File \"C:\\Users\\rydhm\\AppData\\Local\\Temp\\pip-install-somc8kdl\\distutils2_59d7024aa76c453ab098294951a64965\\setup.py\", line 5, in <module>\n",
      "          from ConfigParser import RawConfigParser\n",
      "      ModuleNotFoundError: No module named 'ConfigParser'\n",
      "      [end of output]\n",
      "  \n",
      "  note: This error originates from a subprocess, and is likely not a problem with pip.\n",
      "error: metadata-generation-failed\n",
      "\n",
      "× Encountered error while generating package metadata.\n",
      "╰─> See above for output.\n",
      "\n",
      "note: This is an issue with the package mentioned above, not pip.\n",
      "hint: See above for details.\n"
     ]
    }
   ],
   "source": [
    "pip install Distutils2"
   ]
  },
  {
   "cell_type": "code",
   "execution_count": 7,
   "metadata": {},
   "outputs": [
    {
     "name": "stdout",
     "output_type": "stream",
     "text": [
      "Collecting configparser\n",
      "  Downloading configparser-7.1.0-py3-none-any.whl.metadata (5.4 kB)\n",
      "Downloading configparser-7.1.0-py3-none-any.whl (17 kB)\n",
      "Installing collected packages: configparser\n",
      "Successfully installed configparser-7.1.0\n",
      "Note: you may need to restart the kernel to use updated packages.\n"
     ]
    }
   ],
   "source": [
    "pip install configparser"
   ]
  },
  {
   "cell_type": "code",
   "execution_count": 10,
   "metadata": {},
   "outputs": [
    {
     "name": "stdout",
     "output_type": "stream",
     "text": [
      "Collecting distutils644\n",
      "  Downloading distutils644-0.4.tar.gz (5.7 kB)\n",
      "  Preparing metadata (setup.py): started\n",
      "  Preparing metadata (setup.py): finished with status 'done'\n",
      "Building wheels for collected packages: distutils644\n",
      "  Building wheel for distutils644 (setup.py): started\n",
      "  Building wheel for distutils644 (setup.py): finished with status 'done'\n",
      "  Created wheel for distutils644: filename=distutils644-0.4-py2.py3-none-any.whl size=3792 sha256=ae649435e75125ba568d7f40d3b661f23650582436154811e8f7bc65ff915e40\n",
      "  Stored in directory: c:\\users\\rydhm\\appdata\\local\\pip\\cache\\wheels\\4e\\e6\\9d\\67147caf6a15d47c155e00aa0b07429fe077adf74a9201bbcc\n",
      "Successfully built distutils644\n",
      "Installing collected packages: distutils644\n",
      "Successfully installed distutils644-0.4\n",
      "Note: you may need to restart the kernel to use updated packages.\n"
     ]
    }
   ],
   "source": [
    "pip install distutils644"
   ]
  },
  {
   "cell_type": "code",
   "execution_count": 13,
   "metadata": {},
   "outputs": [
    {
     "name": "stdout",
     "output_type": "stream",
     "text": [
      "Requirement already satisfied: setuptools in c:\\users\\rydhm\\appdata\\local\\programs\\python\\python312\\lib\\site-packages (75.1.0)Note: you may need to restart the kernel to use updated packages.\n",
      "\n"
     ]
    }
   ],
   "source": [
    "pip install setuptools"
   ]
  },
  {
   "cell_type": "code",
   "execution_count": 15,
   "metadata": {},
   "outputs": [
    {
     "name": "stdout",
     "output_type": "stream",
     "text": [
      "Requirement already satisfied: setuptools in c:\\users\\rydhm\\appdata\\local\\programs\\python\\python312\\lib\\site-packages (75.1.0)\n",
      "Note: you may need to restart the kernel to use updated packages.\n"
     ]
    }
   ],
   "source": [
    "pip install --upgrade setuptools"
   ]
  },
  {
   "cell_type": "code",
   "execution_count": 2,
   "metadata": {},
   "outputs": [
    {
     "name": "stdout",
     "output_type": "stream",
     "text": [
      "Downloading data from https://storage.googleapis.com/tensorflow/tf-keras-datasets/imdb.npz\n",
      "\u001b[1m17464789/17464789\u001b[0m \u001b[32m━━━━━━━━━━━━━━━━━━━━\u001b[0m\u001b[37m\u001b[0m \u001b[1m8s\u001b[0m 0us/step\n"
     ]
    }
   ],
   "source": [
    "(train_data, train_labels), (test_data, test_labels) = imdb.load_data(\n",
    "num_words=10000)"
   ]
  },
  {
   "cell_type": "code",
   "execution_count": 3,
   "metadata": {},
   "outputs": [
    {
     "name": "stdout",
     "output_type": "stream",
     "text": [
      "train_data  (25000,)\n",
      "train_labels  (25000,)\n",
      "____________________________________________________________________________________________________\n",
      "test_data  (25000,)\n",
      "test_labels  (25000,)\n",
      "____________________________________________________________________________________________________\n",
      "Maximum value of a word index \n",
      "9999\n",
      "Maximum length num words of review in train \n",
      "2494\n"
     ]
    }
   ],
   "source": [
    "print(\"train_data \", train_data.shape)\n",
    "print(\"train_labels \", train_labels.shape)\n",
    "print(\"_\"*100)\n",
    "print(\"test_data \", test_data.shape)\n",
    "print(\"test_labels \", test_labels.shape)\n",
    "print(\"_\"*100)\n",
    "print(\"Maximum value of a word index \")\n",
    "print(max([max(sequence) for sequence in train_data]))\n",
    "print(\"Maximum length num words of review in train \")\n",
    "print(max([len(sequence) for sequence in train_data]))"
   ]
  },
  {
   "cell_type": "code",
   "execution_count": 4,
   "metadata": {},
   "outputs": [
    {
     "name": "stdout",
     "output_type": "stream",
     "text": [
      "Downloading data from https://storage.googleapis.com/tensorflow/tf-keras-datasets/imdb_word_index.json\n",
      "\u001b[1m1641221/1641221\u001b[0m \u001b[32m━━━━━━━━━━━━━━━━━━━━\u001b[0m\u001b[37m\u001b[0m \u001b[1m0s\u001b[0m 0us/step\n",
      "? beautiful and touching movie rich colors great settings good acting and one of the most charming movies i have seen in a while i never saw such an interesting setting when i was in china my wife liked it so much she asked me to ? on and rate it so other would enjoy too\n"
     ]
    }
   ],
   "source": [
    "word_index = imdb.get_word_index()\n",
    "\n",
    "reverse_word_index = dict(\n",
    "[(value, key) for (key, value) in word_index.items()])\n",
    "\n",
    "decoded_review = ' '.join(\n",
    "[reverse_word_index.get(i - 3, '?') for i in train_data[123]])\n",
    "\n",
    "print(decoded_review)"
   ]
  },
  {
   "cell_type": "code",
   "execution_count": 5,
   "metadata": {},
   "outputs": [],
   "source": [
    "import numpy as np"
   ]
  },
  {
   "cell_type": "code",
   "execution_count": 6,
   "metadata": {},
   "outputs": [],
   "source": [
    "def vectorize_sequences(sequences, dimension=10000):\n",
    "    results = np.zeros((len(sequences), dimension))\n",
    "    for i, sequence in enumerate(sequences):\n",
    "        results[i, sequence] = 1.\n",
    "    return results"
   ]
  },
  {
   "cell_type": "code",
   "execution_count": 7,
   "metadata": {},
   "outputs": [
    {
     "name": "stdout",
     "output_type": "stream",
     "text": [
      "x_train  (25000, 10000)\n",
      "x_test  (25000, 10000)\n"
     ]
    }
   ],
   "source": [
    "x_train = vectorize_sequences(train_data)\n",
    "x_test = vectorize_sequences(test_data)\n",
    "\n",
    "print(\"x_train \", x_train.shape)\n",
    "print(\"x_test \", x_test.shape)"
   ]
  },
  {
   "cell_type": "code",
   "execution_count": 8,
   "metadata": {},
   "outputs": [
    {
     "name": "stdout",
     "output_type": "stream",
     "text": [
      "y_train  (25000,)\n",
      "y_test  (25000,)\n"
     ]
    }
   ],
   "source": [
    "y_train = np.asarray(train_labels).astype('float32')\n",
    "y_test = np.asarray(test_labels).astype('float32')\n",
    "print(\"y_train \", y_train.shape)\n",
    "print(\"y_test \", y_test.shape)"
   ]
  },
  {
   "cell_type": "code",
   "execution_count": 9,
   "metadata": {},
   "outputs": [
    {
     "name": "stdout",
     "output_type": "stream",
     "text": [
      "x_val  (10000, 10000)\n",
      "partial_x_train  (15000, 10000)\n",
      "y_val  (10000,)\n",
      "partial_y_train  (15000,)\n"
     ]
    }
   ],
   "source": [
    "x_val = x_train[:10000]\n",
    "partial_x_train = x_train[10000:]\n",
    "y_val = y_train[:10000]\n",
    "partial_y_train = y_train[10000:]\n",
    "\n",
    "print(\"x_val \", x_val.shape)\n",
    "print(\"partial_x_train \", partial_x_train.shape)\n",
    "print(\"y_val \", y_val.shape)\n",
    "print(\"partial_y_train \", partial_y_train.shape)"
   ]
  },
  {
   "cell_type": "code",
   "execution_count": 10,
   "metadata": {},
   "outputs": [],
   "source": [
    "from keras import models"
   ]
  },
  {
   "cell_type": "code",
   "execution_count": 11,
   "metadata": {},
   "outputs": [],
   "source": [
    "from keras import regularizers"
   ]
  },
  {
   "cell_type": "code",
   "execution_count": 12,
   "metadata": {},
   "outputs": [],
   "source": [
    "from keras import  layers"
   ]
  },
  {
   "cell_type": "code",
   "execution_count": 13,
   "metadata": {},
   "outputs": [],
   "source": [
    "from keras import optimizers, losses, metrics"
   ]
  },
  {
   "cell_type": "code",
   "execution_count": 14,
   "metadata": {},
   "outputs": [
    {
     "name": "stderr",
     "output_type": "stream",
     "text": [
      "d:\\Anaconda\\Lib\\site-packages\\keras\\src\\layers\\core\\dense.py:87: UserWarning: Do not pass an `input_shape`/`input_dim` argument to a layer. When using Sequential models, prefer using an `Input(shape)` object as the first layer in the model instead.\n",
      "  super().__init__(activity_regularizer=activity_regularizer, **kwargs)\n"
     ]
    }
   ],
   "source": [
    "model = models.Sequential()\n",
    "model.add(layers.Dense(16, kernel_regularizer=regularizers.l1(0.001), activation='relu', input_shape=(10000,)))\n",
    "model.add(layers.Dropout(0.5))\n",
    "model.add(layers.Dense(16, kernel_regularizer=regularizers.l1(0.001),activation='relu'))\n",
    "model.add(layers.Dropout(0.5))\n",
    "model.add(layers.Dense(1, activation='sigmoid'))"
   ]
  },
  {
   "cell_type": "code",
   "execution_count": 15,
   "metadata": {},
   "outputs": [
    {
     "name": "stdout",
     "output_type": "stream",
     "text": [
      "Epoch 1/10\n",
      "\u001b[1m30/30\u001b[0m \u001b[32m━━━━━━━━━━━━━━━━━━━━\u001b[0m\u001b[37m\u001b[0m \u001b[1m3s\u001b[0m 44ms/step - acc: 0.5733 - loss: 1.6897 - val_acc: 0.7699 - val_loss: 0.7869\n",
      "Epoch 2/10\n",
      "\u001b[1m30/30\u001b[0m \u001b[32m━━━━━━━━━━━━━━━━━━━━\u001b[0m\u001b[37m\u001b[0m \u001b[1m1s\u001b[0m 18ms/step - acc: 0.7115 - loss: 0.7803 - val_acc: 0.8414 - val_loss: 0.6989\n",
      "Epoch 3/10\n",
      "\u001b[1m30/30\u001b[0m \u001b[32m━━━━━━━━━━━━━━━━━━━━\u001b[0m\u001b[37m\u001b[0m \u001b[1m1s\u001b[0m 18ms/step - acc: 0.7628 - loss: 0.7336 - val_acc: 0.8425 - val_loss: 0.6539\n",
      "Epoch 4/10\n",
      "\u001b[1m30/30\u001b[0m \u001b[32m━━━━━━━━━━━━━━━━━━━━\u001b[0m\u001b[37m\u001b[0m \u001b[1m1s\u001b[0m 20ms/step - acc: 0.7874 - loss: 0.7005 - val_acc: 0.8546 - val_loss: 0.6270\n",
      "Epoch 5/10\n",
      "\u001b[1m30/30\u001b[0m \u001b[32m━━━━━━━━━━━━━━━━━━━━\u001b[0m\u001b[37m\u001b[0m \u001b[1m1s\u001b[0m 19ms/step - acc: 0.8145 - loss: 0.6704 - val_acc: 0.8585 - val_loss: 0.6087\n",
      "Epoch 6/10\n",
      "\u001b[1m30/30\u001b[0m \u001b[32m━━━━━━━━━━━━━━━━━━━━\u001b[0m\u001b[37m\u001b[0m \u001b[1m1s\u001b[0m 19ms/step - acc: 0.8245 - loss: 0.6615 - val_acc: 0.8535 - val_loss: 0.6005\n",
      "Epoch 7/10\n",
      "\u001b[1m30/30\u001b[0m \u001b[32m━━━━━━━━━━━━━━━━━━━━\u001b[0m\u001b[37m\u001b[0m \u001b[1m1s\u001b[0m 17ms/step - acc: 0.8301 - loss: 0.6507 - val_acc: 0.8558 - val_loss: 0.5858\n",
      "Epoch 8/10\n",
      "\u001b[1m30/30\u001b[0m \u001b[32m━━━━━━━━━━━━━━━━━━━━\u001b[0m\u001b[37m\u001b[0m \u001b[1m1s\u001b[0m 18ms/step - acc: 0.8243 - loss: 0.6422 - val_acc: 0.8223 - val_loss: 0.6301\n",
      "Epoch 9/10\n",
      "\u001b[1m30/30\u001b[0m \u001b[32m━━━━━━━━━━━━━━━━━━━━\u001b[0m\u001b[37m\u001b[0m \u001b[1m1s\u001b[0m 19ms/step - acc: 0.8350 - loss: 0.6357 - val_acc: 0.8639 - val_loss: 0.5732\n",
      "Epoch 10/10\n",
      "\u001b[1m30/30\u001b[0m \u001b[32m━━━━━━━━━━━━━━━━━━━━\u001b[0m\u001b[37m\u001b[0m \u001b[1m0s\u001b[0m 13ms/step - acc: 0.8463 - loss: 0.6172 - val_acc: 0.8652 - val_loss: 0.5574\n",
      "\u001b[1m782/782\u001b[0m \u001b[32m━━━━━━━━━━━━━━━━━━━━\u001b[0m\u001b[37m\u001b[0m \u001b[1m2s\u001b[0m 3ms/step - acc: 0.8616 - loss: 0.5635\n",
      "____________________________________________________________________________________________________\n",
      "Test Loss and Accuracy\n",
      "results  [0.5605412125587463, 0.8636800050735474]\n"
     ]
    },
    {
     "data": {
      "text/plain": [
       "dict_keys(['acc', 'loss', 'val_acc', 'val_loss'])"
      ]
     },
     "execution_count": 15,
     "metadata": {},
     "output_type": "execute_result"
    }
   ],
   "source": [
    "NumEpochs = 10\n",
    "BatchSize = 512\n",
    "\n",
    "model.compile(optimizer='rmsprop', loss='binary_crossentropy', metrics=['acc'])\n",
    "\n",
    "history = model.fit(partial_x_train, partial_y_train, epochs=NumEpochs, batch_size=BatchSize, validation_data=(x_val, y_val))\n",
    "\n",
    "results = model.evaluate(x_test, y_test)\n",
    "print(\"_\"*100)\n",
    "print(\"Test Loss and Accuracy\")\n",
    "print(\"results \", results)\n",
    "history_dict = history.history\n",
    "history_dict.keys()"
   ]
  },
  {
   "cell_type": "code",
   "execution_count": 16,
   "metadata": {},
   "outputs": [],
   "source": [
    "import matplotlib.pyplot as plt"
   ]
  },
  {
   "cell_type": "code",
   "execution_count": 17,
   "metadata": {},
   "outputs": [
    {
     "data": {
      "image/png": "[encoded data removed]",
      "text/plain": [
       "<Figure size 640x480 with 1 Axes>"
      ]
     },
     "metadata": {},
     "output_type": "display_data"
    }
   ],
   "source": [
    "plt.clf()\n",
    "history_dict = history.history\n",
    "loss_values = history_dict['loss']\n",
    "val_loss_values = history_dict['val_loss']\n",
    "epochs = range(1, (len(history_dict['loss']) + 1))\n",
    "plt.plot(epochs, loss_values, 'bo', label='Training loss')\n",
    "plt.plot(epochs, val_loss_values, 'b', label='Validation loss')\n",
    "plt.title('Training and validation loss')\n",
    "plt.xlabel('Epochs')\n",
    "plt.ylabel('Loss')\n",
    "plt.legend()\n",
    "plt.show()"
   ]
  },
  {
   "cell_type": "code",
   "execution_count": 18,
   "metadata": {},
   "outputs": [
    {
     "data": {
      "image/png": "[encoded data removed]",
      "text/plain": [
       "<Figure size 640x480 with 1 Axes>"
      ]
     },
     "metadata": {},
     "output_type": "display_data"
    }
   ],
   "source": [
    "plt.clf()\n",
    "acc_values = history_dict['acc']\n",
    "val_acc_values = history_dict['val_acc']\n",
    "epochs = range(1, (len(history_dict['acc']) + 1))\n",
    "plt.plot(epochs, acc_values, 'bo', label='Training acc')\n",
    "plt.plot(epochs, val_acc_values, 'b', label='Validation acc')\n",
    "plt.title('Training and validation accuracy')\n",
    "plt.xlabel('Epochs')\n",
    "plt.ylabel('Accuracy')\n",
    "plt.legend()\n",
    "plt.show()"
   ]
  },
  {
   "cell_type": "code",
   "execution_count": 19,
   "metadata": {},
   "outputs": [
    {
     "name": "stdout",
     "output_type": "stream",
     "text": [
      "\u001b[1m782/782\u001b[0m \u001b[32m━━━━━━━━━━━━━━━━━━━━\u001b[0m\u001b[37m\u001b[0m \u001b[1m2s\u001b[0m 2ms/step\n"
     ]
    },
    {
     "data": {
      "text/plain": [
       "array([[0.24417871],\n",
       "       [0.9832407 ],\n",
       "       [0.79017997],\n",
       "       ...,\n",
       "       [0.14950481],\n",
       "       [0.12358363],\n",
       "       [0.25742406]], dtype=float32)"
      ]
     },
     "execution_count": 19,
     "metadata": {},
     "output_type": "execute_result"
    }
   ],
   "source": [
    "model.predict(x_test)"
   ]
  },
  {
   "cell_type": "code",
   "execution_count": null,
   "metadata": {},
   "outputs": [],
   "source": []
  }
 ],
 "metadata": {
  "kernelspec": {
   "display_name": "Python 3",
   "language": "python",
   "name": "python3"
  },
  "language_info": {
   "codemirror_mode": {
    "name": "ipython",
    "version": 3
   },
   "file_extension": ".py",
   "mimetype": "text/x-python",
   "name": "python",
   "nbconvert_exporter": "python",
   "pygments_lexer": "ipython3",
   "version": "3.12.4"
  }
 },
 "nbformat": 4,
 "nbformat_minor": 2
}
