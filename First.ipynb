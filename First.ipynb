{
 "cells": [
  {
   "cell_type": "code",
   "execution_count": 1,
   "metadata": {},
   "outputs": [],
   "source": [
    "import pandas as pd"
   ]
  },
  {
   "cell_type": "code",
   "execution_count": 2,
   "metadata": {},
   "outputs": [],
   "source": [
    "df=pd.read_csv(\"Loan.csv\")"
   ]
  },
  {
   "cell_type": "code",
   "execution_count": 3,
   "metadata": {},
   "outputs": [
    {
     "data": {
      "text/html": [
       "<div>\n",
       "<style scoped>\n",
       "    .dataframe tbody tr th:only-of-type {\n",
       "        vertical-align: middle;\n",
       "    }\n",
       "\n",
       "    .dataframe tbody tr th {\n",
       "        vertical-align: top;\n",
       "    }\n",
       "\n",
       "    .dataframe thead th {\n",
       "        text-align: right;\n",
       "    }\n",
       "</style>\n",
       "<table border=\"1\" class=\"dataframe\">\n",
       "  <thead>\n",
       "    <tr style=\"text-align: right;\">\n",
       "      <th></th>\n",
       "      <th>Loan_ID</th>\n",
       "      <th>Gender</th>\n",
       "      <th>Married</th>\n",
       "      <th>Dependents</th>\n",
       "      <th>Education</th>\n",
       "      <th>Self_Employed</th>\n",
       "      <th>ApplicantIncome</th>\n",
       "      <th>CoapplicantIncome</th>\n",
       "      <th>LoanAmount</th>\n",
       "      <th>Loan_Amount_Term</th>\n",
       "      <th>Credit_History</th>\n",
       "      <th>Property_Area</th>\n",
       "      <th>Loan_Status</th>\n",
       "    </tr>\n",
       "  </thead>\n",
       "  <tbody>\n",
       "    <tr>\n",
       "      <th>0</th>\n",
       "      <td>LP001002</td>\n",
       "      <td>Male</td>\n",
       "      <td>No</td>\n",
       "      <td>0</td>\n",
       "      <td>Graduate</td>\n",
       "      <td>No</td>\n",
       "      <td>5849</td>\n",
       "      <td>0.0</td>\n",
       "      <td>NaN</td>\n",
       "      <td>360.0</td>\n",
       "      <td>1.0</td>\n",
       "      <td>Urban</td>\n",
       "      <td>Y</td>\n",
       "    </tr>\n",
       "    <tr>\n",
       "      <th>1</th>\n",
       "      <td>LP001003</td>\n",
       "      <td>Male</td>\n",
       "      <td>Yes</td>\n",
       "      <td>1</td>\n",
       "      <td>Graduate</td>\n",
       "      <td>No</td>\n",
       "      <td>4583</td>\n",
       "      <td>1508.0</td>\n",
       "      <td>128.0</td>\n",
       "      <td>360.0</td>\n",
       "      <td>1.0</td>\n",
       "      <td>Rural</td>\n",
       "      <td>N</td>\n",
       "    </tr>\n",
       "    <tr>\n",
       "      <th>2</th>\n",
       "      <td>LP001005</td>\n",
       "      <td>Male</td>\n",
       "      <td>Yes</td>\n",
       "      <td>0</td>\n",
       "      <td>Graduate</td>\n",
       "      <td>Yes</td>\n",
       "      <td>3000</td>\n",
       "      <td>0.0</td>\n",
       "      <td>66.0</td>\n",
       "      <td>360.0</td>\n",
       "      <td>1.0</td>\n",
       "      <td>Urban</td>\n",
       "      <td>Y</td>\n",
       "    </tr>\n",
       "    <tr>\n",
       "      <th>3</th>\n",
       "      <td>LP001006</td>\n",
       "      <td>Male</td>\n",
       "      <td>Yes</td>\n",
       "      <td>0</td>\n",
       "      <td>Not Graduate</td>\n",
       "      <td>No</td>\n",
       "      <td>2583</td>\n",
       "      <td>2358.0</td>\n",
       "      <td>120.0</td>\n",
       "      <td>360.0</td>\n",
       "      <td>1.0</td>\n",
       "      <td>Urban</td>\n",
       "      <td>Y</td>\n",
       "    </tr>\n",
       "    <tr>\n",
       "      <th>4</th>\n",
       "      <td>LP001008</td>\n",
       "      <td>Male</td>\n",
       "      <td>No</td>\n",
       "      <td>0</td>\n",
       "      <td>Graduate</td>\n",
       "      <td>No</td>\n",
       "      <td>6000</td>\n",
       "      <td>0.0</td>\n",
       "      <td>141.0</td>\n",
       "      <td>360.0</td>\n",
       "      <td>1.0</td>\n",
       "      <td>Urban</td>\n",
       "      <td>Y</td>\n",
       "    </tr>\n",
       "  </tbody>\n",
       "</table>\n",
       "</div>"
      ],
      "text/plain": [
       "    Loan_ID Gender Married Dependents     Education Self_Employed  \\\n",
       "0  LP001002   Male      No          0      Graduate            No   \n",
       "1  LP001003   Male     Yes          1      Graduate            No   \n",
       "2  LP001005   Male     Yes          0      Graduate           Yes   \n",
       "3  LP001006   Male     Yes          0  Not Graduate            No   \n",
       "4  LP001008   Male      No          0      Graduate            No   \n",
       "\n",
       "   ApplicantIncome  CoapplicantIncome  LoanAmount  Loan_Amount_Term  \\\n",
       "0             5849                0.0         NaN             360.0   \n",
       "1             4583             1508.0       128.0             360.0   \n",
       "2             3000                0.0        66.0             360.0   \n",
       "3             2583             2358.0       120.0             360.0   \n",
       "4             6000                0.0       141.0             360.0   \n",
       "\n",
       "   Credit_History Property_Area Loan_Status  \n",
       "0             1.0         Urban           Y  \n",
       "1             1.0         Rural           N  \n",
       "2             1.0         Urban           Y  \n",
       "3             1.0         Urban           Y  \n",
       "4             1.0         Urban           Y  "
      ]
     },
     "execution_count": 3,
     "metadata": {},
     "output_type": "execute_result"
    }
   ],
   "source": [
    "df.head()"
   ]
  },
  {
   "cell_type": "code",
   "execution_count": 4,
   "metadata": {},
   "outputs": [
    {
     "data": {
      "text/plain": [
       "(614, 13)"
      ]
     },
     "execution_count": 4,
     "metadata": {},
     "output_type": "execute_result"
    }
   ],
   "source": [
    "df.shape"
   ]
  },
  {
   "cell_type": "code",
   "execution_count": 5,
   "metadata": {},
   "outputs": [
    {
     "data": {
      "text/plain": [
       "Loan_ID\n",
       "LP001002    1\n",
       "LP002328    1\n",
       "LP002305    1\n",
       "LP002308    1\n",
       "LP002314    1\n",
       "           ..\n",
       "LP001692    1\n",
       "LP001693    1\n",
       "LP001698    1\n",
       "LP001699    1\n",
       "LP002990    1\n",
       "Name: count, Length: 614, dtype: int64"
      ]
     },
     "execution_count": 5,
     "metadata": {},
     "output_type": "execute_result"
    }
   ],
   "source": [
    "df.Loan_ID.value_counts(dropna=False)"
   ]
  },
  {
   "cell_type": "code",
   "execution_count": 6,
   "metadata": {},
   "outputs": [
    {
     "data": {
      "text/plain": [
       "Gender\n",
       "Male      489\n",
       "Female    112\n",
       "NaN        13\n",
       "Name: count, dtype: int64"
      ]
     },
     "execution_count": 6,
     "metadata": {},
     "output_type": "execute_result"
    }
   ],
   "source": [
    "df.Gender.value_counts(dropna=False)"
   ]
  },
  {
   "cell_type": "code",
   "execution_count": 8,
   "metadata": {},
   "outputs": [],
   "source": [
    "import seaborn as sns"
   ]
  },
  {
   "cell_type": "code",
   "execution_count": 9,
   "metadata": {},
   "outputs": [
    {
     "name": "stderr",
     "output_type": "stream",
     "text": [
      "C:\\Users\\Aanchal Jain\\AppData\\Local\\Temp\\ipykernel_18048\\2717358563.py:1: FutureWarning: \n",
      "\n",
      "Passing `palette` without assigning `hue` is deprecated and will be removed in v0.14.0. Assign the `x` variable to `hue` and set `legend=False` for the same effect.\n",
      "\n",
      "  sns.countplot(x=\"Gender\", data=df,palette=\"hls\")\n"
     ]
    },
    {
     "data": {
      "text/plain": [
       "<Axes: xlabel='Gender', ylabel='count'>"
      ]
     },
     "execution_count": 9,
     "metadata": {},
     "output_type": "execute_result"
    },
    {
     "data": {
      "image/png": "[encoded data removed]",
      "text/plain": [
       "<Figure size 640x480 with 1 Axes>"
      ]
     },
     "metadata": {},
     "output_type": "display_data"
    }
   ],
   "source": [
    "sns.countplot(x=\"Gender\", data=df,palette=\"hls\")\n",
    "# h for colour, l for britness and s for saturation"
   ]
  },
  {
   "cell_type": "code",
   "execution_count": 10,
   "metadata": {},
   "outputs": [],
   "source": [
    "countMale=len(df[df.Gender=='Male'])\n",
    "countFemale=len(df[df.Gender=='Female'])\n",
    "countNull=len(df[df.Gender.isnull()])"
   ]
  },
  {
   "cell_type": "code",
   "execution_count": 11,
   "metadata": {},
   "outputs": [
    {
     "data": {
      "text/plain": [
       "'Male Applicant %79.64169381107492'"
      ]
     },
     "execution_count": 11,
     "metadata": {},
     "output_type": "execute_result"
    }
   ],
   "source": [
    "\"Male Applicant %\"+format(countMale/len(df.Gender)*100)"
   ]
  },
  {
   "cell_type": "code",
   "execution_count": 12,
   "metadata": {},
   "outputs": [
    {
     "data": {
      "text/plain": [
       "'Female Applicant %18.241042345276874'"
      ]
     },
     "execution_count": 12,
     "metadata": {},
     "output_type": "execute_result"
    }
   ],
   "source": [
    "\"Female Applicant %\"+format(countFemale/len(df.Gender)*100)"
   ]
  },
  {
   "cell_type": "code",
   "execution_count": 13,
   "metadata": {},
   "outputs": [
    {
     "data": {
      "text/plain": [
       "'Missing Applicant %2.1172638436482085'"
      ]
     },
     "execution_count": 13,
     "metadata": {},
     "output_type": "execute_result"
    }
   ],
   "source": [
    "\"Missing Applicant %\"+format(countNull/len(df.Gender)*100)"
   ]
  },
  {
   "cell_type": "code",
   "execution_count": 15,
   "metadata": {},
   "outputs": [
    {
     "name": "stdout",
     "output_type": "stream",
     "text": [
      "Married Applicant %64.82084690553745\n",
      "Not Married Applicant %34.69055374592834\n",
      "Missing Applicant %0.4885993485342019\n"
     ]
    }
   ],
   "source": [
    "countMarried=len(df[df.Married==\"Yes\"])\n",
    "countNotmarried=len(df[df.Married==\"No\"])\n",
    "countNull=len(df[df.Married.isnull()])\n",
    "print(\"Married Applicant %\"+format(countMarried/len(df.Married)*100))\n",
    "print(\"Not Married Applicant %\"+format(countNotmarried/len(df.Married)*100))\n",
    "print(\"Missing Applicant %\"+format(countNull/len(df.Married)*100))"
   ]
  },
  {
   "cell_type": "code",
   "execution_count": 9,
   "metadata": {},
   "outputs": [
    {
     "name": "stdout",
     "output_type": "stream",
     "text": [
      "Dependents Applicant %0.0\n",
      "Not Dependents Applicant %0.0\n",
      "Missing Applicant %2.44299674267101\n"
     ]
    }
   ],
   "source": [
    "countDependents=len(df[df.Dependents==1])\n",
    "countNotdependents=len(df[df.Dependents==0])\n",
    "countNull=len(df[df.Dependents.isnull()])\n",
    "print(\"Dependents Applicant %\"+format(countDependents/len(df.Dependents)*100))\n",
    "print(\"Not Dependents Applicant %\"+format(countNotdependents/len(df.Dependents)*100))\n",
    "print(\"Missing Applicant %\"+format(countNull/len(df.Dependents)*100))"
   ]
  },
  {
   "cell_type": "code",
   "execution_count": 10,
   "metadata": {},
   "outputs": [
    {
     "name": "stderr",
     "output_type": "stream",
     "text": [
      "C:\\Users\\Aanchal Jain\\AppData\\Local\\Temp\\ipykernel_15148\\554843152.py:1: FutureWarning: A value is trying to be set on a copy of a DataFrame or Series through chained assignment using an inplace method.\n",
      "The behavior will change in pandas 3.0. This inplace method will never work because the intermediate object on which we are setting values always behaves as a copy.\n",
      "\n",
      "For example, when doing 'df[col].method(value, inplace=True)', try using 'df.method({col: value}, inplace=True)' or df[col] = df[col].method(value) instead, to perform the operation inplace on the original object.\n",
      "\n",
      "\n",
      "  df['Gender'].fillna(df['Gender'].mode(), inplace=True)\n",
      "C:\\Users\\Aanchal Jain\\AppData\\Local\\Temp\\ipykernel_15148\\554843152.py:2: FutureWarning: A value is trying to be set on a copy of a DataFrame or Series through chained assignment using an inplace method.\n",
      "The behavior will change in pandas 3.0. This inplace method will never work because the intermediate object on which we are setting values always behaves as a copy.\n",
      "\n",
      "For example, when doing 'df[col].method(value, inplace=True)', try using 'df.method({col: value}, inplace=True)' or df[col] = df[col].method(value) instead, to perform the operation inplace on the original object.\n",
      "\n",
      "\n",
      "  df['Married'].fillna(df['Married'].mode(), inplace=True)\n",
      "C:\\Users\\Aanchal Jain\\AppData\\Local\\Temp\\ipykernel_15148\\554843152.py:3: FutureWarning: A value is trying to be set on a copy of a DataFrame or Series through chained assignment using an inplace method.\n",
      "The behavior will change in pandas 3.0. This inplace method will never work because the intermediate object on which we are setting values always behaves as a copy.\n",
      "\n",
      "For example, when doing 'df[col].method(value, inplace=True)', try using 'df.method({col: value}, inplace=True)' or df[col] = df[col].method(value) instead, to perform the operation inplace on the original object.\n",
      "\n",
      "\n",
      "  df['Self_Employed'].fillna(df['Self_Employed'].mode(), inplace=True)\n"
     ]
    }
   ],
   "source": [
    "df['Gender'].fillna(df['Gender'].mode(), inplace=True)\n",
    "df['Married'].fillna(df['Married'].mode(), inplace=True)\n",
    "df['Self_Employed'].fillna(df['Self_Employed'].mode(), inplace=True)"
   ]
  },
  {
   "cell_type": "code",
   "execution_count": 18,
   "metadata": {},
   "outputs": [
    {
     "name": "stdout",
     "output_type": "stream",
     "text": [
      "Graduate Applicant %78.17589576547232\n",
      "Not Graduate Applicant %0.0\n",
      "Missing Applicant %0.0\n"
     ]
    }
   ],
   "source": [
    "countEducated=len(df[df.Education==\"Graduate\"])\n",
    "countNoteducated=len(df[df.Education==\"Not \"])\n",
    "countNull=len(df[df.Education.isnull()])\n",
    "print(\"Graduate Applicant %\"+format(countEducated/len(df.Education)*100))\n",
    "print(\"Not Graduate Applicant %\"+format(countNoteducated/len(df.Education)*100))\n",
    "print(\"Missing Applicant %\"+format(countNull/len(df.Education)*100))"
   ]
  },
  {
   "cell_type": "code",
   "execution_count": 19,
   "metadata": {},
   "outputs": [
    {
     "name": "stdout",
     "output_type": "stream",
     "text": [
      "Self Employed Applicant %13.355048859934854\n",
      "Not Self Employed Applicant %86.64495114006515\n",
      "Missing Applicant %0.0\n"
     ]
    }
   ],
   "source": [
    "countEmployed=len(df[df.Self_Employed==\"Yes\"])\n",
    "countNotEmployed=len(df[df.Self_Employed==\"No\"])\n",
    "countNull=len(df[df.Self_Employed.isnull()])\n",
    "print(\"Self Employed Applicant %\"+format(countEmployed/len(df.Self_Employed)*100))\n",
    "print(\"Not Self Employed Applicant %\"+format(countNotEmployed/len(df.Self_Employed)*100))\n",
    "print(\"Missing Applicant %\"+format(countNull/len(df.Self_Employed)*100))"
   ]
  },
  {
   "cell_type": "code",
   "execution_count": 20,
   "metadata": {},
   "outputs": [
    {
     "name": "stdout",
     "output_type": "stream",
     "text": [
      "Urban Applicant %32.89902280130293\n",
      "Rural Applicant %29.153094462540718\n",
      "Semiurban Applicant %37.94788273615635\n",
      "Missing Applicant %0.0\n"
     ]
    }
   ],
   "source": [
    "countProperty_Area_Urban=len(df[df.Property_Area==\"Urban\"])\n",
    "countProperty_Area_Rural=len(df[df.Property_Area==\"Rural\"])\n",
    "countProperty_Area_Semiurban=len(df[df.Property_Area==\"Semiurban\"])\n",
    "countNull=len(df[df.Property_Area.isnull()])\n",
    "print(\"Urban Applicant %\"+format(countProperty_Area_Urban/len(df.Property_Area)*100))\n",
    "print(\"Rural Applicant %\"+format(countProperty_Area_Rural/len(df.Property_Area)*100))\n",
    "print(\"Semiurban Applicant %\"+format(countProperty_Area_Semiurban/len(df.Property_Area)*100))\n",
    "print(\"Missing Applicant %\"+format(countNull/len(df.Property_Area)*100))"
   ]
  },
  {
   "cell_type": "code",
   "execution_count": 21,
   "metadata": {},
   "outputs": [
    {
     "name": "stdout",
     "output_type": "stream",
     "text": [
      "Loan Status Yes %68.72964169381108\n",
      "Loan Status No %31.27035830618892\n",
      "Missing Loan Status %0.0\n"
     ]
    }
   ],
   "source": [
    "countLoan_Status_yes=len(df[df.Loan_Status==\"Y\"])\n",
    "countLoan_Status_no=len(df[df.Loan_Status==\"N\"])\n",
    "countNull=len(df[df.Loan_Status.isnull()])\n",
    "print(\"Loan Status Yes %\"+format(countLoan_Status_yes/len(df.Loan_Status)*100))\n",
    "print(\"Loan Status No %\"+format(countLoan_Status_no/len(df.Loan_Status)*100))\n",
    "print(\"Missing Loan Status %\"+format(countNull/len(df.Loan_Status)*100))\n"
   ]
  },
  {
   "cell_type": "code",
   "execution_count": 23,
   "metadata": {},
   "outputs": [
    {
     "name": "stderr",
     "output_type": "stream",
     "text": [
      "C:\\Users\\Aanchal Jain\\AppData\\Local\\Temp\\ipykernel_18048\\2493155020.py:1: FutureWarning: A value is trying to be set on a copy of a DataFrame or Series through chained assignment using an inplace method.\n",
      "The behavior will change in pandas 3.0. This inplace method will never work because the intermediate object on which we are setting values always behaves as a copy.\n",
      "\n",
      "For example, when doing 'df[col].method(value, inplace=True)', try using 'df.method({col: value}, inplace=True)' or df[col] = df[col].method(value) instead, to perform the operation inplace on the original object.\n",
      "\n",
      "\n",
      "  df['LoanAmount'].fillna(df['LoanAmount'].mean(), inplace=True)\n",
      "C:\\Users\\Aanchal Jain\\AppData\\Local\\Temp\\ipykernel_18048\\2493155020.py:2: FutureWarning: A value is trying to be set on a copy of a DataFrame or Series through chained assignment using an inplace method.\n",
      "The behavior will change in pandas 3.0. This inplace method will never work because the intermediate object on which we are setting values always behaves as a copy.\n",
      "\n",
      "For example, when doing 'df[col].method(value, inplace=True)', try using 'df.method({col: value}, inplace=True)' or df[col] = df[col].method(value) instead, to perform the operation inplace on the original object.\n",
      "\n",
      "\n",
      "  df['Credit_History'].fillna(df['Credit_History'].mode(), inplace=True)\n",
      "C:\\Users\\Aanchal Jain\\AppData\\Local\\Temp\\ipykernel_18048\\2493155020.py:3: FutureWarning: A value is trying to be set on a copy of a DataFrame or Series through chained assignment using an inplace method.\n",
      "The behavior will change in pandas 3.0. This inplace method will never work because the intermediate object on which we are setting values always behaves as a copy.\n",
      "\n",
      "For example, when doing 'df[col].method(value, inplace=True)', try using 'df.method({col: value}, inplace=True)' or df[col] = df[col].method(value) instead, to perform the operation inplace on the original object.\n",
      "\n",
      "\n",
      "  df['Loan_Amount_Term'].fillna(df['Loan_Amount_Term'].mode(), inplace=True)\n"
     ]
    }
   ],
   "source": [
    "df['LoanAmount'].fillna(df['LoanAmount'].mean(), inplace=True)\n",
    "df['Credit_History'].fillna(df['Credit_History'].mode(), inplace=True)\n",
    "df['Loan_Amount_Term'].fillna(df['Loan_Amount_Term'].mode(), inplace=True)"
   ]
  },
  {
   "cell_type": "code",
   "execution_count": 24,
   "metadata": {},
   "outputs": [],
   "source": [
    "df = pd.get_dummies(df, columns=['Gender', 'Married', 'Education', 'Self_Employed', 'Property_Area'], drop_first=True)"
   ]
  },
  {
   "cell_type": "code",
   "execution_count": 25,
   "metadata": {},
   "outputs": [],
   "source": [
    "df['Loan_Status'] = df['Loan_Status'].map({'Y': 1, 'N': 0})"
   ]
  },
  {
   "cell_type": "code",
   "execution_count": 26,
   "metadata": {},
   "outputs": [],
   "source": [
    "from sklearn.preprocessing import StandardScaler\n",
    "scaler = StandardScaler()\n",
    "df[['LoanAmount', 'Loan_Amount_Term']] = scaler.fit_transform(df[['LoanAmount', 'Loan_Amount_Term']])\n"
   ]
  },
  {
   "cell_type": "code",
   "execution_count": 27,
   "metadata": {},
   "outputs": [],
   "source": [
    "df.drop_duplicates(inplace=True)"
   ]
  },
  {
   "cell_type": "code",
   "execution_count": 28,
   "metadata": {},
   "outputs": [],
   "source": [
    "df.drop(columns=['Loan_ID'], inplace=True)\n"
   ]
  },
  {
   "cell_type": "code",
   "execution_count": 29,
   "metadata": {},
   "outputs": [
    {
     "data": {
      "text/plain": [
       "<Axes: ylabel='LoanAmount'>"
      ]
     },
     "execution_count": 29,
     "metadata": {},
     "output_type": "execute_result"
    },
    {
     "data": {
      "image/png": "[encoded data removed]",
      "text/plain": [
       "<Figure size 640x480 with 1 Axes>"
      ]
     },
     "metadata": {},
     "output_type": "display_data"
    }
   ],
   "source": [
    "sns.boxplot(df['LoanAmount'])"
   ]
  },
  {
   "cell_type": "code",
   "execution_count": 30,
   "metadata": {},
   "outputs": [
    {
     "data": {
      "text/plain": [
       "Dependents                 15\n",
       "ApplicantIncome             0\n",
       "CoapplicantIncome           0\n",
       "LoanAmount                  0\n",
       "Loan_Amount_Term           14\n",
       "Credit_History             50\n",
       "Loan_Status                 0\n",
       "Gender_Male                 0\n",
       "Married_Yes                 0\n",
       "Education_Not Graduate      0\n",
       "Self_Employed_Yes           0\n",
       "Property_Area_Semiurban     0\n",
       "Property_Area_Urban         0\n",
       "dtype: int64"
      ]
     },
     "execution_count": 30,
     "metadata": {},
     "output_type": "execute_result"
    }
   ],
   "source": [
    "df.isnull().sum()"
   ]
  }
 ],
 "metadata": {
  "kernelspec": {
   "display_name": "base",
   "language": "python",
   "name": "python3"
  },
  "language_info": {
   "codemirror_mode": {
    "name": "ipython",
    "version": 3
   },
   "file_extension": ".py",
   "mimetype": "text/x-python",
   "name": "python",
   "nbconvert_exporter": "python",
   "pygments_lexer": "ipython3",
   "version": "3.12.4"
  }
 },
 "nbformat": 4,
 "nbformat_minor": 2
}
