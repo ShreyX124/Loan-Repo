{
 "cells": [
  {
   "cell_type": "code",
   "execution_count": 1,
   "metadata": {},
   "outputs": [],
   "source": [
    "import pandas as pd\n",
    "from sklearn.model_selection import train_test_split\n",
    "from sklearn.ensemble import RandomForestClassifier\n",
    "from sklearn.metrics import accuracy_score\n",
    "import joblib\n",
    "from sklearn.datasets import load_iris"
   ]
  },
  {
   "cell_type": "code",
   "execution_count": 2,
   "metadata": {},
   "outputs": [],
   "source": [
    "def ingest_data():\n",
    "    iris_data = load_iris()\n",
    "    data = pd.DataFrame(data=iris_data.data, columns=iris_data.feature_names)\n",
    "    data['target'] = iris_data.target\n",
    "    return data\n"
   ]
  },
  {
   "cell_type": "code",
   "execution_count": 3,
   "metadata": {},
   "outputs": [],
   "source": [
    "def engineer_features(data):\n",
    "    features = data.drop('target', axis=1)\n",
    "    target = data['target']\n",
    "    return features, target\n"
   ]
  },
  {
   "cell_type": "code",
   "execution_count": 4,
   "metadata": {},
   "outputs": [],
   "source": [
    "def train_model(features, target):\n",
    "    X_train, X_test, y_train, y_test = train_test_split(features, target, test_size=0.2, random_state=42)\n",
    "    model = RandomForestClassifier(n_estimators=100)\n",
    "    model.fit(X_train, y_train)\n",
    "    predictions = model.predict(X_test)\n",
    "    print(f\"Model Accuracy: {accuracy_score(y_test, predictions)}\")\n",
    "    return model\n"
   ]
  },
  {
   "cell_type": "code",
   "execution_count": 5,
   "metadata": {},
   "outputs": [],
   "source": [
    "def deploy_model(model, model_path):\n",
    "    joblib.dump(model, model_path)\n",
    "    print(f\"Model saved to {model_path}\")\n"
   ]
  },
  {
   "cell_type": "code",
   "execution_count": 6,
   "metadata": {},
   "outputs": [
    {
     "name": "stdout",
     "output_type": "stream",
     "text": [
      "Model Accuracy: 1.0\n",
      "Model saved to model.pkl\n",
      "Model Monitoring Accuracy: 1.0\n"
     ]
    },
    {
     "data": {
      "text/plain": [
       "1.0"
      ]
     },
     "execution_count": 6,
     "metadata": {},
     "output_type": "execute_result"
    }
   ],
   "source": [
    "def monitor_model(model, features, target):\n",
    "    predictions = model.predict(features)\n",
    "    accuracy = accuracy_score(target, predictions)\n",
    "    print(f\"Model Monitoring Accuracy: {accuracy}\")\n",
    "    return accuracy\n",
    "  \n",
    "# Example usage\n",
    "data = ingest_data()\n",
    "features, target = engineer_features(data)\n",
    "model = train_model(features, target)\n",
    "deploy_model(model, 'model.pkl')\n",
    "\n",
    "# Monitor model performance with new data (using the same dataset for simplicity)\n",
    "monitor_model(model, features, target)\n"
   ]
  },
  {
   "cell_type": "code",
   "execution_count": 2,
   "metadata": {},
   "outputs": [
    {
     "name": "stdout",
     "output_type": "stream",
     "text": [
      "Model Accuracy: 1.0\n",
      "Model saved to model.pkl\n",
      "Model Monitoring Accuracy: 1.0\n"
     ]
    },
    {
     "data": {
      "text/plain": [
       "1.0"
      ]
     },
     "execution_count": 2,
     "metadata": {},
     "output_type": "execute_result"
    }
   ],
   "source": [
    "# Import necessary libraries\n",
    "import pandas as pd\n",
    "from sklearn.model_selection import train_test_split\n",
    "from sklearn.ensemble import RandomForestClassifier\n",
    "from sklearn.metrics import accuracy_score\n",
    "import joblib\n",
    "\n",
    "# Data Ingestion and Preparation\n",
    "def ingest_data():\n",
    "    # Load Iris dataset\n",
    "    url = 'https://raw.githubusercontent.com/jbrownlee/Datasets/master/iris.csv'\n",
    "    data = pd.read_csv(url, header=None)\n",
    "    data.columns = ['sepal_length', 'sepal_width', 'petal_length', 'petal_width', 'target']\n",
    "    return data\n",
    "\n",
    "# Feature Engineering\n",
    "def engineer_features(data):\n",
    "    features = data.drop('target', axis=1)\n",
    "    target = data['target']\n",
    "    return features, target\n",
    "\n",
    "# Model Training\n",
    "def train_model(features, target):\n",
    "    X_train, X_test, y_train, y_test = train_test_split(features, target, test_size=0.2, random_state=42)\n",
    "    model = RandomForestClassifier(n_estimators=100)\n",
    "    model.fit(X_train, y_train)\n",
    "    predictions = model.predict(X_test)\n",
    "    print(f\"Model Accuracy: {accuracy_score(y_test, predictions)}\")\n",
    "    return model\n",
    "\n",
    "# Model Deployment\n",
    "def deploy_model(model, model_path):\n",
    "    joblib.dump(model, model_path)\n",
    "    print(f\"Model saved to {model_path}\")\n",
    "\n",
    "# Monitoring (simple example)\n",
    "def monitor_model(model, features, target):\n",
    "    predictions = model.predict(features)\n",
    "    accuracy = accuracy_score(target, predictions)\n",
    "    print(f\"Model Monitoring Accuracy: {accuracy}\")\n",
    "    return accuracy\n",
    "\n",
    "# Example Usage\n",
    "data = ingest_data()\n",
    "features, target = engineer_features(data)\n",
    "model = train_model(features, target)\n",
    "deploy_model(model, 'model.pkl')\n",
    "\n",
    "# Monitor model performance with new data (using the same dataset for simplicity)\n",
    "monitor_model(model, features, target)\n"
   ]
  }
 ],
 "metadata": {
  "kernelspec": {
   "display_name": "Python 3",
   "language": "python",
   "name": "python3"
  },
  "language_info": {
   "codemirror_mode": {
    "name": "ipython",
    "version": 3
   },
   "file_extension": ".py",
   "mimetype": "text/x-python",
   "name": "python",
   "nbconvert_exporter": "python",
   "pygments_lexer": "ipython3",
   "version": "3.12.4"
  }
 },
 "nbformat": 4,
 "nbformat_minor": 2
}
